{
 "cells": [
  {
   "cell_type": "markdown",
   "metadata": {},
   "source": [
    "# TEST Heading"
   ]
  },
  {
   "cell_type": "markdown",
   "metadata": {},
   "source": [
    "## Test Heading 2"
   ]
  },
  {
   "cell_type": "markdown",
   "metadata": {},
   "source": [
    "### Test Heading 3"
   ]
  },
  {
   "cell_type": "markdown",
   "metadata": {},
   "source": [
    "Sample selection list:\n",
    "- OS\n",
    "    - [x] Windows 10\n",
    "    - [ ] macOS\n",
    "    - [ ] Linux (Please specify distro)\n",
    " - Browser \n",
    "    - [ ] Chrome\n",
    "    - [ ] Edge\n",
    "    - [ ] Firefox\n",
    "    - [ ] Safari\n",
    " - Frontend\n",
    "    - [ ] Jupyter Lab\n",
    "    - [ ] nteract\n",
    "    - [ ] Other (please specify)"
   ]
  },
  {
   "cell_type": "markdown",
   "metadata": {},
   "source": [
    "Sample **raw code** block: (*non-executable code*)\n",
    "\n",
    "``` \n",
    "PowerShell 7.0.3\n",
    "Copyright (c) Microsoft Corporation. All rights reserved.\n",
    "\n",
    "https://aka.ms/powershell\n",
    "Type 'help' to get help.\n",
    "\n",
    "Welcome to PowerShell in Linux\n",
    "UnixCompleters is loaded!\n",
    "PS /home/maxt> Get-Module -l Sql* | Select Name, Version \n",
    "PS /home/maxt> Find-module SqlServer | Select Name, Version\n",
    "\n",
    "Name      Version\n",
    "----      -------\n",
    "SqlServer 21.1.18226\n",
    "\n",
    "PS /home/maxt>\n",
    "\n",
    "```\n",
    "\n",
    "End of code block\n"
   ]
  },
  {
   "cell_type": "markdown",
   "metadata": {},
   "source": [
    "> For more information about Markdown syntax\n",
    "> Check the following link:\n",
    ">> *https://www.markdownguide.org/basic-syntax*\n"
   ]
  },
  {
   "cell_type": "code",
   "execution_count": null,
   "metadata": {},
   "outputs": [],
   "source": [
    "## - Run mount from a system having a z: mapped drive:\n",
    "sudo mount -t drvfs Z: /mnt/z"
   ]
  },
  {
   "cell_type": "code",
   "execution_count": 3,
   "metadata": {},
   "outputs": [],
   "source": [
    "## - Copy Notebook to a Windows folder:\n",
    "cp ./SampleMarkdownSyntax01.ipynb '/mnt/c/MySharedFiles/SFLCodeCafeUG_08182020/Notebooks'"
   ]
  },
  {
   "cell_type": "code",
   "execution_count": 4,
   "metadata": {},
   "outputs": [
    {
     "name": "stdout",
     "output_type": "stream",
     "text": [
      "\n",
      "\n",
      "    Directory: /mnt/c/SFLCodeCafe_08172020/JupyterNotebook Sample\n",
      "\n",
      "Mode                 LastWriteTime         Length Name\n",
      "----                 -------------         ------ ----\n",
      "-----          08/17/2020    11:07           3184 SampleMarkdownSyntax01.ipynb\n",
      "\n"
     ]
    }
   ],
   "source": [
    "dir '/mnt/c/MySharedFiles/SFLCodeCafeUG_08182020/Notebooks'"
   ]
  },
  {
   "cell_type": "code",
   "execution_count": null,
   "metadata": {},
   "outputs": [],
   "source": []
  }
 ],
 "metadata": {
  "kernelspec": {
   "display_name": ".NET (PowerShell)",
   "language": "PowerShell",
   "name": ".net-powershell"
  },
  "language_info": {
   "file_extension": ".ps1",
   "mimetype": "text/x-powershell",
   "name": "PowerShell",
   "pygments_lexer": "powershell",
   "version": "7.0"
  }
 },
 "nbformat": 4,
 "nbformat_minor": 4
}
