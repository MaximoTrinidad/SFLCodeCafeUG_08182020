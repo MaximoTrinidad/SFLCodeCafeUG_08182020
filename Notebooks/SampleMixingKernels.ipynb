{
 "cells": [
  {
   "cell_type": "markdown",
   "metadata": {},
   "source": [
    "### Sample Mixing Kernels (*within .NET Kernels Only*)\n",
    "\n",
    "This notebook will open using the .NET C# Kernel.\n"
   ]
  },
  {
   "cell_type": "code",
   "execution_count": 25,
   "metadata": {},
   "outputs": [
    {
     "name": "stdout",
     "output_type": "stream",
     "text": [
      "Console Output in C#\n",
      "-----To-Da-Max!-----\n",
      "\n"
     ]
    }
   ],
   "source": [
    "// C-Sharp code execution:\n",
    "using System;\n",
    "Console.WriteLine(\"Console Output in C#\\r\");\n",
    "Console.WriteLine(\"-----To-Da-Max!-----\\n\");"
   ]
  },
  {
   "cell_type": "markdown",
   "metadata": {},
   "source": [
    "Below is using the Magic code for PowerShell Subsystem to execute the code:"
   ]
  },
  {
   "cell_type": "code",
   "execution_count": 4,
   "metadata": {},
   "outputs": [
    {
     "name": "stdout",
     "output_type": "stream",
     "text": [
      "\n",
      "Name                           Value\n",
      "----                           -----\n",
      "PSVersion                      7.0.2\n",
      "PSEdition                      Core\n",
      "GitCommitId                    7.0.2\n",
      "OS                             Linux 4.19.104-microsoft-standard #1 SMP Wed Feb 19 06:37:35 UTC 20…\n",
      "Platform                       Unix\n",
      "PSCompatibleVersions           {1.0, 2.0, 3.0, 4.0…}\n",
      "PSRemotingProtocolVersion      2.3\n",
      "SerializationVersion           1.1.0.1\n",
      "WSManStackVersion              3.0\n",
      "\n"
     ]
    }
   ],
   "source": [
    "#!pwsh\n",
    "$PSVersionTable"
   ]
  },
  {
   "cell_type": "code",
   "execution_count": 5,
   "metadata": {},
   "outputs": [
    {
     "ename": "Unhandled exception",
     "evalue": "Required command was not provided.\nUnrecognized command or argument '#!python'",
     "output_type": "error",
     "traceback": [
      "Required command was not provided.\nUnrecognized command or argument '#!python'"
     ]
    }
   ],
   "source": [
    "#!python\n",
    "import os\n",
    "os.system('cat /etc/os-release')"
   ]
  },
  {
   "cell_type": "markdown",
   "metadata": {},
   "source": [
    "> Notice that trying run the Python kernel within .NET C# is not working (yet):"
   ]
  },
  {
   "cell_type": "markdown",
   "metadata": {},
   "source": [
    "But, you call python to execute a python sourcefile."
   ]
  },
  {
   "cell_type": "code",
   "execution_count": 9,
   "metadata": {},
   "outputs": [
    {
     "name": "stdout",
     "output_type": "stream",
     "text": [
      "NAME=\"Ubuntu\"\n",
      "VERSION=\"18.04.5 LTS (Bionic Beaver)\"\n",
      "ID=ubuntu\n",
      "ID_LIKE=debian\n",
      "PRETTY_NAME=\"Ubuntu 18.04.5 LTS\"\n",
      "VERSION_ID=\"18.04\"\n",
      "HOME_URL=\"https://www.ubuntu.com/\"\n",
      "SUPPORT_URL=\"https://help.ubuntu.com/\"\n",
      "BUG_REPORT_URL=\"https://bugs.launchpad.net/ubuntu/\"\n",
      "PRIVACY_POLICY_URL=\"https://www.ubuntu.com/legal/terms-and-policies/privacy-policy\"\n",
      "VERSION_CODENAME=bionic\n",
      "UBUNTU_CODENAME=bionic\n"
     ]
    }
   ],
   "source": [
    "#!pwsh\n",
    "python '/home/maxt/Python/pysample01.py'"
   ]
  },
  {
   "cell_type": "code",
   "execution_count": 14,
   "metadata": {},
   "outputs": [],
   "source": [
    "#!pwsh\n",
    "## - Copy Notebook to a Windows folder:\n",
    "cp Python/pysample01.py '/mnt/c/MySharedFiles/SFLCodeCafeUG_08182020/Python'"
   ]
  },
  {
   "cell_type": "code",
   "execution_count": 13,
   "metadata": {},
   "outputs": [
    {
     "name": "stdout",
     "output_type": "stream",
     "text": [
      "\n",
      "\n",
      "    Directory: /mnt/c/MySharedFiles\n",
      "\n",
      "Mode                 LastWriteTime         Length Name\n",
      "----                 -------------         ------ ----\n",
      "d----          08/12/2020    10:32                Downloads\n",
      "d----          07/24/2020    09:42                MyDockerImages\n",
      "d----          08/10/2020    12:15                MyScripts\n",
      "d----          08/11/2020    14:26                PowerShell Studio Templates\n",
      "d----          08/12/2020    11:09                ProjectDataGridView01\n",
      "d----          08/13/2020    16:12                QA_Builds\n",
      "d----          08/17/2020    13:18                SFLCodeCafeUG_08182020\n",
      "d----          03/31/2020    16:20                ZoomIt\n",
      "-----          07/22/2020    18:13        3836830 DatagridView01.zip\n",
      "-----          08/06/2020    17:39         114204 JobTracker_Az2020_Sample1.zip\n",
      "-----          07/27/2020    11:59          28015 ModuleCacheV5_NotQABuild.zip\n",
      "-----          07/27/2020    11:25          27883 ModuleCacheV5.zip\n",
      "-----          08/14/2020    15:31          22273 ProjectDataGridView01.zip\n",
      "-----          08/11/2020    17:30           6651 SAPIEN Blog - Working with DataGridViews_07202020\n",
      "                                                  .txt\n",
      "-----          04/11/2019    17:07           3072 Thumbs.db\n",
      "-----          08/03/2020    12:44            120 UpdatedUserList.csv\n",
      "\n"
     ]
    }
   ],
   "source": [
    "#!pwsh\n",
    "dir /mnt/c/MySharedFiles"
   ]
  },
  {
   "cell_type": "code",
   "execution_count": 15,
   "metadata": {},
   "outputs": [
    {
     "name": "stdout",
     "output_type": "stream",
     "text": [
      "\n",
      "\n",
      "    Directory: /mnt/c/MySharedFiles/SFLCodeCafeUG_08182020/Python\n",
      "\n",
      "Mode                 LastWriteTime         Length Name\n",
      "----                 -------------         ------ ----\n",
      "-----          08/17/2020    13:51             44 pysample01.py\n",
      "-----          08/17/2020    13:15           1404 Python37_sample_01.py\n",
      "-----          08/17/2020    13:00            794 Python37_sample_01.TempPoint.py\n",
      "\n"
     ]
    }
   ],
   "source": [
    "#!pwsh\n",
    "dir '/mnt/c/MySharedFiles/SFLCodeCafeUG_08182020/Python'"
   ]
  },
  {
   "cell_type": "code",
   "execution_count": 26,
   "metadata": {},
   "outputs": [],
   "source": [
    "#!pwsh\n",
    "## - Copy Notebook to a Windows folder:\n",
    "cp SampleMixingKernels.ipynb '/mnt/c/MySharedFiles/SFLCodeCafeUG_08182020/Notebooks'"
   ]
  },
  {
   "cell_type": "code",
   "execution_count": 27,
   "metadata": {},
   "outputs": [
    {
     "name": "stdout",
     "output_type": "stream",
     "text": [
      "\n",
      "\n",
      "    Directory: /mnt/c/MySharedFiles/SFLCodeCafeUG_08182020/JupyterNotebook Sample\n",
      "\n",
      "Mode                 LastWriteTime         Length Name\n",
      "----                 -------------         ------ ----\n",
      "-----          08/17/2020    11:12           3288 SampleMarkdownSyntax01.ipynb\n",
      "-----          08/17/2020    15:20           7662 SampleMixingKernels.ipynb\n",
      "\n"
     ]
    }
   ],
   "source": [
    "#!pwsh\n",
    "dir '/mnt/c/MySharedFiles/SFLCodeCafeUG_08182020/Notebooks'"
   ]
  },
  {
   "cell_type": "code",
   "execution_count": null,
   "metadata": {},
   "outputs": [],
   "source": []
  }
 ],
 "metadata": {
  "kernelspec": {
   "display_name": ".NET (C#)",
   "language": "C#",
   "name": ".net-csharp"
  },
  "language_info": {
   "file_extension": ".cs",
   "mimetype": "text/x-csharp",
   "name": "C#",
   "pygments_lexer": "csharp",
   "version": "8.0"
  }
 },
 "nbformat": 4,
 "nbformat_minor": 4
}
